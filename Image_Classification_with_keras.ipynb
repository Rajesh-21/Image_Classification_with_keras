{
  "nbformat": 4,
  "nbformat_minor": 0,
  "metadata": {
    "colab": {
      "name": "Image_Classification with keras.ipynb",
      "provenance": [],
      "collapsed_sections": [],
      "authorship_tag": "ABX9TyMTiscQ7ecn64dsLdnw9fs/",
      "include_colab_link": true
    },
    "kernelspec": {
      "name": "python3",
      "display_name": "Python 3"
    },
    "language_info": {
      "name": "python"
    }
  },
  "cells": [
    {
      "cell_type": "markdown",
      "metadata": {
        "id": "view-in-github",
        "colab_type": "text"
      },
      "source": [
        "<a href=\"https://colab.research.google.com/github/Rajesh-21/Image_Classification_with_keras/blob/main/Image_Classification_with_keras.ipynb\" target=\"_parent\"><img src=\"https://colab.research.google.com/assets/colab-badge.svg\" alt=\"Open In Colab\"/></a>"
      ]
    },
    {
      "cell_type": "markdown",
      "metadata": {
        "id": "wWUY9oSubHIo"
      },
      "source": [
        "Image Classification with keras.\n",
        "\n",
        "Building CNN in keras with python,\n",
        "CIFAR-10 dataset is used which is consist of 60000 32x32 colour images in 10 classes with 6000 images per class. There are 50000 training images and 10000 test images.\n",
        "\n",
        "The dataset is divided into five training batches and one test batch, each with 10000 images. The test batch contains exactly 1000 randomly-selected images from each class. The training batches contain the remaining images in random order, but some training batches may contain more images from one class than another. Between them, the training batches contain exactly 5000 images from each class.\n",
        "\n",
        "Here are the classes in the dataset, as well as 10 random images from each:\n",
        "airplane\t\t\t\t\t\t\t\t\t\t\n",
        "automobile\t\t\t\t\t\t\t\t\t\t\n",
        "bird\t\t\t\t\t\t\t\t\t\t\n",
        "cat\t\t\t\t\t\t\t\t\t\t\n",
        "deer\t\t\t\t\t\t\t\t\t\t\n",
        "dog\t\t\t\t\t\t\t\t\t\t\n",
        "frog\t\t\t\t\t\t\t\t\t\t\n",
        "horse\t\t\t\t\t\t\t\t\t\t\n",
        "ship\t\t\t\t\t\t\t\t\t\t\n",
        "truck\t\t\t\t\t\t\t\t\t\t\n",
        "\n",
        "The classes are completely mutually exclusive. There is no overlap between automobiles and trucks. \"Automobile\" includes sedans, SUVs, things of that sort. \"Truck\" includes only big trucks. Neither includes pickup trucks.\n",
        "\n",
        "Version\tSize\tmd5sum\n",
        "[CIFAR-10 python version](https://www.cs.toronto.edu/~kriz/cifar-10-python.tar.gz)-(163 MB)\tc58f30108f718f92721af3b95e74349a\n"
      ]
    },
    {
      "cell_type": "code",
      "metadata": {
        "id": "vIZg3Yd87EDX",
        "colab": {
          "base_uri": "https://localhost:8080/"
        },
        "outputId": "bcf1d394-2ced-4a94-ac04-f3f0b23e3956"
      },
      "source": [
        "#loading dataset from keras\n",
        "from keras.datasets import cifar10\n",
        "import matplotlib.pyplot as plt\n",
        "%matplotlib\n",
        " \n",
        "(train_X,train_Y),(test_X,test_Y)=cifar10.load_data()"
      ],
      "execution_count": 38,
      "outputs": [
        {
          "output_type": "stream",
          "text": [
            "Using matplotlib backend: agg\n"
          ],
          "name": "stdout"
        }
      ]
    },
    {
      "cell_type": "code",
      "metadata": {
        "id": "npux1IAdHaCa"
      },
      "source": [
        "#visualising dataset\n",
        "n=6\n",
        "plt.figure(figsize=(20,10))\n",
        "for i in range(n):\n",
        "  plt.subplot(330+1+i)\n",
        "  plt.imshow(train_X[i])\n",
        "plt.show()"
      ],
      "execution_count": null,
      "outputs": []
    },
    {
      "cell_type": "code",
      "metadata": {
        "id": "imaBPpmyHlaY"
      },
      "source": [
        "#importing required modules \n",
        "from keras.models import Sequential\n",
        "from keras.layers import Dense\n",
        "from keras.layers import Dropout\n",
        "from keras.layers import Flatten\n",
        "from keras.constraints import maxnorm\n",
        "from keras.optimizers import SGD\n",
        "from keras.layers.convolutional import Conv2D\n",
        "from keras.layers.convolutional import MaxPooling2D\n",
        "from keras.utils import np_utils"
      ],
      "execution_count": null,
      "outputs": []
    },
    {
      "cell_type": "code",
      "metadata": {
        "id": "Nj6E5iOGILB7"
      },
      "source": [
        "#Pre-processing dataset (Converting to float type and normalising dataset)\n",
        "train_x=train_X.astype('float32')\n",
        "test_X=test_X.astype('float32')\n",
        " \n",
        "train_X=train_X/255.0\n",
        "test_X=test_X/255.0"
      ],
      "execution_count": null,
      "outputs": []
    },
    {
      "cell_type": "code",
      "metadata": {
        "id": "3l90cymLINFC"
      },
      "source": [
        "#performing one-hot encoding\n",
        "train_Y=np_utils.to_categorical(train_Y)\n",
        "test_Y=np_utils.to_categorical(test_Y)\n",
        " \n",
        "num_classes=test_Y.shape[1]"
      ],
      "execution_count": null,
      "outputs": []
    },
    {
      "cell_type": "code",
      "metadata": {
        "id": "PtuHKW4bJMuh"
      },
      "source": [
        "#Creating sequantial model and adding the layers\n",
        "model=Sequential()\n",
        "model.add(Conv2D(32,(3,3),input_shape=(32,32,3),padding='same',activation='relu',kernel_constraint=maxnorm(3)))\n",
        "model.add(Dropout(0.2))\n",
        "model.add(Conv2D(32,(3,3),activation='relu',padding='same',kernel_constraint=maxnorm(3)))\n",
        "model.add(MaxPooling2D(pool_size=(2,2)))\n",
        "model.add(Flatten())\n",
        "model.add(Dense(512,activation='relu',kernel_constraint=maxnorm(3)))\n",
        "model.add(Dropout(0.5))\n",
        "model.add(Dense(num_classes, activation='softmax'))\n"
      ],
      "execution_count": null,
      "outputs": []
    },
    {
      "cell_type": "code",
      "metadata": {
        "colab": {
          "base_uri": "https://localhost:8080/"
        },
        "id": "PB13eUG8JQH9",
        "outputId": "2302044e-8532-4617-bbb4-464f3b203866"
      },
      "source": [
        "#compiling the module\n",
        "sgd=SGD(lr=0.01,momentum=0.9,decay=(0.01/25),nesterov=False)\n",
        "model.compile(loss='categorical_crossentropy',optimizer=sgd,metrics=['accuracy'])"
      ],
      "execution_count": null,
      "outputs": [
        {
          "output_type": "stream",
          "text": [
            "/usr/local/lib/python3.7/dist-packages/tensorflow/python/keras/optimizer_v2/optimizer_v2.py:375: UserWarning: The `lr` argument is deprecated, use `learning_rate` instead.\n",
            "  \"The `lr` argument is deprecated, use `learning_rate` instead.\")\n"
          ],
          "name": "stderr"
        }
      ]
    },
    {
      "cell_type": "code",
      "metadata": {
        "colab": {
          "base_uri": "https://localhost:8080/"
        },
        "id": "QcrfEasBJT27",
        "outputId": "03388100-24fc-4e79-99a9-a12cac383ca7"
      },
      "source": [
        "#Model summary\n",
        "model.summary()"
      ],
      "execution_count": null,
      "outputs": [
        {
          "output_type": "stream",
          "text": [
            "Model: \"sequential_2\"\n",
            "_________________________________________________________________\n",
            "Layer (type)                 Output Shape              Param #   \n",
            "=================================================================\n",
            "conv2d_4 (Conv2D)            (None, 32, 32, 32)        896       \n",
            "_________________________________________________________________\n",
            "dropout_4 (Dropout)          (None, 32, 32, 32)        0         \n",
            "_________________________________________________________________\n",
            "conv2d_5 (Conv2D)            (None, 32, 32, 32)        9248      \n",
            "_________________________________________________________________\n",
            "max_pooling2d_2 (MaxPooling2 (None, 16, 16, 32)        0         \n",
            "_________________________________________________________________\n",
            "flatten_2 (Flatten)          (None, 8192)              0         \n",
            "_________________________________________________________________\n",
            "dense_4 (Dense)              (None, 512)               4194816   \n",
            "_________________________________________________________________\n",
            "dropout_5 (Dropout)          (None, 512)               0         \n",
            "_________________________________________________________________\n",
            "dense_5 (Dense)              (None, 10)                5130      \n",
            "=================================================================\n",
            "Total params: 4,210,090\n",
            "Trainable params: 4,210,090\n",
            "Non-trainable params: 0\n",
            "_________________________________________________________________\n"
          ],
          "name": "stdout"
        }
      ]
    },
    {
      "cell_type": "code",
      "metadata": {
        "colab": {
          "base_uri": "https://localhost:8080/"
        },
        "id": "0ZNtlrvwJdNp",
        "outputId": "d5197df1-1932-484c-eef6-1345b9ee9e27"
      },
      "source": [
        "#Train the model\n",
        "model.fit(train_X,train_Y,validation_data=(test_X,test_Y),epochs=25,batch_size=32)"
      ],
      "execution_count": 33,
      "outputs": [
        {
          "output_type": "stream",
          "text": [
            "Epoch 1/25\n",
            "1563/1563 [==============================] - 196s 126ms/step - loss: 0.5714 - accuracy: 0.7996 - val_loss: 0.9196 - val_accuracy: 0.6955\n",
            "Epoch 2/25\n",
            "1563/1563 [==============================] - 194s 124ms/step - loss: 0.5227 - accuracy: 0.8156 - val_loss: 0.9431 - val_accuracy: 0.6913\n",
            "Epoch 3/25\n",
            "1563/1563 [==============================] - 194s 124ms/step - loss: 0.4892 - accuracy: 0.8275 - val_loss: 0.9457 - val_accuracy: 0.6936\n",
            "Epoch 4/25\n",
            "1563/1563 [==============================] - 193s 123ms/step - loss: 0.4466 - accuracy: 0.8447 - val_loss: 0.9704 - val_accuracy: 0.6950\n",
            "Epoch 5/25\n",
            "1563/1563 [==============================] - 190s 122ms/step - loss: 0.4156 - accuracy: 0.8549 - val_loss: 0.9756 - val_accuracy: 0.6974\n",
            "Epoch 6/25\n",
            "1563/1563 [==============================] - 191s 122ms/step - loss: 0.3873 - accuracy: 0.8658 - val_loss: 0.9932 - val_accuracy: 0.7028\n",
            "Epoch 7/25\n",
            "1563/1563 [==============================] - 195s 125ms/step - loss: 0.3660 - accuracy: 0.8700 - val_loss: 0.9909 - val_accuracy: 0.7006\n",
            "Epoch 8/25\n",
            "1563/1563 [==============================] - 198s 127ms/step - loss: 0.3352 - accuracy: 0.8827 - val_loss: 1.0038 - val_accuracy: 0.6978\n",
            "Epoch 9/25\n",
            "1563/1563 [==============================] - 203s 130ms/step - loss: 0.3160 - accuracy: 0.8899 - val_loss: 1.0264 - val_accuracy: 0.7018\n",
            "Epoch 10/25\n",
            "1563/1563 [==============================] - 196s 126ms/step - loss: 0.2985 - accuracy: 0.8959 - val_loss: 1.0273 - val_accuracy: 0.7050\n",
            "Epoch 11/25\n",
            "1563/1563 [==============================] - 194s 124ms/step - loss: 0.2824 - accuracy: 0.9025 - val_loss: 1.0367 - val_accuracy: 0.7012\n",
            "Epoch 12/25\n",
            "1563/1563 [==============================] - 196s 126ms/step - loss: 0.2622 - accuracy: 0.9093 - val_loss: 1.0622 - val_accuracy: 0.7015\n",
            "Epoch 13/25\n",
            "1563/1563 [==============================] - 197s 126ms/step - loss: 0.2515 - accuracy: 0.9126 - val_loss: 1.0833 - val_accuracy: 0.7049\n",
            "Epoch 14/25\n",
            "1563/1563 [==============================] - 191s 122ms/step - loss: 0.2330 - accuracy: 0.9189 - val_loss: 1.0830 - val_accuracy: 0.7049\n",
            "Epoch 15/25\n",
            "1563/1563 [==============================] - 193s 123ms/step - loss: 0.2285 - accuracy: 0.9205 - val_loss: 1.0960 - val_accuracy: 0.7055\n",
            "Epoch 16/25\n",
            "1563/1563 [==============================] - 193s 124ms/step - loss: 0.2194 - accuracy: 0.9226 - val_loss: 1.1094 - val_accuracy: 0.7050\n",
            "Epoch 17/25\n",
            "1563/1563 [==============================] - 194s 124ms/step - loss: 0.2049 - accuracy: 0.9298 - val_loss: 1.1253 - val_accuracy: 0.7074\n",
            "Epoch 18/25\n",
            "1563/1563 [==============================] - 193s 123ms/step - loss: 0.1984 - accuracy: 0.9319 - val_loss: 1.1212 - val_accuracy: 0.7073\n",
            "Epoch 19/25\n",
            "1563/1563 [==============================] - 189s 121ms/step - loss: 0.1873 - accuracy: 0.9357 - val_loss: 1.1460 - val_accuracy: 0.7044\n",
            "Epoch 20/25\n",
            "1563/1563 [==============================] - 190s 121ms/step - loss: 0.1790 - accuracy: 0.9381 - val_loss: 1.1721 - val_accuracy: 0.7084\n",
            "Epoch 21/25\n",
            "1563/1563 [==============================] - 195s 125ms/step - loss: 0.1753 - accuracy: 0.9396 - val_loss: 1.1545 - val_accuracy: 0.7078\n",
            "Epoch 22/25\n",
            "1563/1563 [==============================] - 189s 121ms/step - loss: 0.1659 - accuracy: 0.9434 - val_loss: 1.1720 - val_accuracy: 0.7086\n",
            "Epoch 23/25\n",
            "1563/1563 [==============================] - 198s 127ms/step - loss: 0.1603 - accuracy: 0.9453 - val_loss: 1.1727 - val_accuracy: 0.7066\n",
            "Epoch 24/25\n",
            "1563/1563 [==============================] - 194s 124ms/step - loss: 0.1546 - accuracy: 0.9475 - val_loss: 1.2012 - val_accuracy: 0.7098\n",
            "Epoch 25/25\n",
            "1563/1563 [==============================] - 191s 122ms/step - loss: 0.1500 - accuracy: 0.9496 - val_loss: 1.2101 - val_accuracy: 0.7080\n"
          ],
          "name": "stdout"
        },
        {
          "output_type": "execute_result",
          "data": {
            "text/plain": [
              "<keras.callbacks.History at 0x7f86b8e0b750>"
            ]
          },
          "metadata": {
            "tags": []
          },
          "execution_count": 33
        }
      ]
    },
    {
      "cell_type": "code",
      "metadata": {
        "colab": {
          "base_uri": "https://localhost:8080/"
        },
        "id": "Y7ojRjG8JgHc",
        "outputId": "cb748a5e-1e9e-4d5f-8a62-e208658a9c5a"
      },
      "source": [
        "#Calculate accuracy\n",
        "_,acc=model.evaluate(test_X,test_Y)\n",
        "print(acc*100)"
      ],
      "execution_count": 34,
      "outputs": [
        {
          "output_type": "stream",
          "text": [
            "313/313 [==============================] - 7s 23ms/step - loss: 1.2101 - accuracy: 0.7080\n",
            "70.80000042915344\n"
          ],
          "name": "stdout"
        }
      ]
    },
    {
      "cell_type": "code",
      "metadata": {
        "id": "VVk7k1dOJh9d"
      },
      "source": [
        "#save model\n",
        "model.save(\"model1_cifar_10epoch.h5\")"
      ],
      "execution_count": null,
      "outputs": []
    },
    {
      "cell_type": "code",
      "metadata": {
        "colab": {
          "base_uri": "https://localhost:8080/"
        },
        "id": "l9OywyM6Tra2",
        "outputId": "05e357ad-ac63-4af5-ed74-a73ac2340e72"
      },
      "source": [
        "#Dictionary for taking output\n",
        "results={\n",
        "   0:'aeroplane',\n",
        "   1:'automobile',\n",
        "   2:'bird',\n",
        "   3:'cat',\n",
        "   4:'deer',\n",
        "   5:'dog',\n",
        "   6:'frog',\n",
        "   7:'horse',\n",
        "   8:'ship',\n",
        "   9:'truck'\n",
        "}\n",
        "from PIL import Image\n",
        "import numpy as np\n",
        "im=Image.open(\"/content/pexels-helena-lopes-1996333.jpg\")\n",
        "# the input image is required to be in the shape of dataset, i.e (32,32,3)\n",
        " \n",
        "im=im.resize((32,32))\n",
        "im=np.expand_dims(im,axis=0)\n",
        "im=np.array(im)\n",
        "pred=model.predict_classes([im])[0]\n",
        "print(pred,results[pred])"
      ],
      "execution_count": 36,
      "outputs": [
        {
          "output_type": "stream",
          "text": [
            "7 horse\n"
          ],
          "name": "stdout"
        },
        {
          "output_type": "stream",
          "text": [
            "/usr/local/lib/python3.7/dist-packages/keras/engine/sequential.py:450: UserWarning: `model.predict_classes()` is deprecated and will be removed after 2021-01-01. Please use instead:* `np.argmax(model.predict(x), axis=-1)`,   if your model does multi-class classification   (e.g. if it uses a `softmax` last-layer activation).* `(model.predict(x) > 0.5).astype(\"int32\")`,   if your model does binary classification   (e.g. if it uses a `sigmoid` last-layer activation).\n",
            "  warnings.warn('`model.predict_classes()` is deprecated and '\n"
          ],
          "name": "stderr"
        }
      ]
    },
    {
      "cell_type": "code",
      "metadata": {
        "id": "jC36WI-2VNzA"
      },
      "source": [
        ""
      ],
      "execution_count": null,
      "outputs": []
    }
  ]
}